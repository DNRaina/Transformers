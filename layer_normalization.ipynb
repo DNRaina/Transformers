{
 "cells": [
  {
   "cell_type": "code",
   "execution_count": 1,
   "metadata": {},
   "outputs": [],
   "source": [
    "import torch\n",
    "from torch import nn"
   ]
  },
  {
   "cell_type": "code",
   "execution_count": 2,
   "metadata": {},
   "outputs": [
    {
     "data": {
      "text/plain": [
       "torch.Size([2, 1, 3])"
      ]
     },
     "execution_count": 2,
     "metadata": {},
     "output_type": "execute_result"
    }
   ],
   "source": [
    "inputs = torch.Tensor([[[0.2, 0.1, 0.3], [0.5, 0.1, 0.1]]])\n",
    "B, S, E = inputs.size()\n",
    "inputs = inputs.reshape(S,B,E)\n",
    "inputs.size()"
   ]
  },
  {
   "cell_type": "code",
   "execution_count": 3,
   "metadata": {},
   "outputs": [],
   "source": [
    "parameter_shape = inputs.size()[-2:]\n",
    "gamma = nn.Parameter(torch.ones(parameter_shape))\n",
    "beta = nn.Parameter(torch.zeros(parameter_shape))"
   ]
  },
  {
   "cell_type": "code",
   "execution_count": 4,
   "metadata": {},
   "outputs": [
    {
     "data": {
      "text/plain": [
       "(torch.Size([1, 3]), torch.Size([1, 3]))"
      ]
     },
     "execution_count": 4,
     "metadata": {},
     "output_type": "execute_result"
    }
   ],
   "source": [
    "gamma.size(), beta.size()"
   ]
  },
  {
   "cell_type": "code",
   "execution_count": 5,
   "metadata": {},
   "outputs": [],
   "source": [
    "dims = [-(i+1) for i in range(len(parameter_shape))]"
   ]
  },
  {
   "cell_type": "code",
   "execution_count": 6,
   "metadata": {},
   "outputs": [
    {
     "data": {
      "text/plain": [
       "[-1, -2]"
      ]
     },
     "execution_count": 6,
     "metadata": {},
     "output_type": "execute_result"
    }
   ],
   "source": [
    "dims"
   ]
  },
  {
   "cell_type": "code",
   "execution_count": 7,
   "metadata": {},
   "outputs": [
    {
     "data": {
      "text/plain": [
       "(torch.Size([2, 1, 1]),\n",
       " tensor([[[0.2000]],\n",
       " \n",
       "         [[0.2333]]]))"
      ]
     },
     "execution_count": 7,
     "metadata": {},
     "output_type": "execute_result"
    }
   ],
   "source": [
    "mean = inputs.mean(dim=dims, keepdim=True)\n",
    "mean.size(), mean"
   ]
  },
  {
   "cell_type": "code",
   "execution_count": 8,
   "metadata": {},
   "outputs": [
    {
     "data": {
      "text/plain": [
       "tensor([[[0.0817]],\n",
       "\n",
       "        [[0.1886]]])"
      ]
     },
     "execution_count": 8,
     "metadata": {},
     "output_type": "execute_result"
    }
   ],
   "source": [
    "var = ((inputs - mean) ** 2).mean(dim=dims, keepdim=True)\n",
    "epsilon = 1e-5\n",
    "std = (var + epsilon).sqrt()\n",
    "std"
   ]
  },
  {
   "cell_type": "code",
   "execution_count": 9,
   "metadata": {},
   "outputs": [
    {
     "data": {
      "text/plain": [
       "tensor([[[ 0.0000, -1.2238,  1.2238]],\n",
       "\n",
       "        [[ 1.4140, -0.7070, -0.7070]]])"
      ]
     },
     "execution_count": 9,
     "metadata": {},
     "output_type": "execute_result"
    }
   ],
   "source": [
    "y = (inputs - mean) / std\n",
    "y"
   ]
  },
  {
   "cell_type": "code",
   "execution_count": 11,
   "metadata": {},
   "outputs": [
    {
     "data": {
      "text/plain": [
       "tensor([[[ 0.0000, -1.2238,  1.2238]],\n",
       "\n",
       "        [[ 1.4140, -0.7070, -0.7070]]], grad_fn=<AddBackward0>)"
      ]
     },
     "execution_count": 11,
     "metadata": {},
     "output_type": "execute_result"
    }
   ],
   "source": [
    "out = gamma * y + beta\n",
    "out"
   ]
  },
  {
   "cell_type": "code",
   "execution_count": 12,
   "metadata": {},
   "outputs": [],
   "source": [
    "import torch\n",
    "from torch import nn\n",
    "\n",
    "class LayerNormalization():\n",
    "    def __init__(self, parameters_shape, eps=1e-5):\n",
    "        self.parameters_shape=parameters_shape\n",
    "        self.eps=eps\n",
    "        self.gamma = nn.Parameter(torch.ones(parameters_shape))\n",
    "        self.beta =  nn.Parameter(torch.zeros(parameters_shape))\n",
    "\n",
    "    def forward(self, input):\n",
    "        dims = [-(i + 1) for i in range(len(self.parameters_shape))]\n",
    "        mean = inputs.mean(dim=dims, keepdim=True)\n",
    "        print(f\"Mean \\n ({mean.size()}): \\n {mean}\")\n",
    "        var = ((inputs - mean) ** 2).mean(dim=dims, keepdim=True)\n",
    "        std = (var + self.eps).sqrt()\n",
    "        print(f\"Standard Deviation \\n ({std.size()}): \\n {std}\")\n",
    "        y = (inputs - mean) / std\n",
    "        print(f\"y \\n ({y.size()}) = \\n {y}\")\n",
    "        out = self.gamma * y  + self.beta\n",
    "        print(f\"out \\n ({out.size()}) = \\n {out}\")\n",
    "        return out"
   ]
  },
  {
   "cell_type": "code",
   "execution_count": 13,
   "metadata": {},
   "outputs": [
    {
     "name": "stdout",
     "output_type": "stream",
     "text": [
      "input \n",
      " (torch.Size([5, 3, 8])) = \n",
      " tensor([[[-1.2955e+00,  2.0290e+00, -6.5452e-01,  1.0763e+00, -6.2481e-01,\n",
      "           8.2222e-01, -1.4164e+00,  9.2760e-01],\n",
      "         [-1.8057e-01,  3.1844e-01, -9.9258e-01,  9.2753e-01, -2.8802e-01,\n",
      "          -1.5813e+00,  1.1965e+00,  7.6290e-01],\n",
      "         [-2.1411e-01, -4.3660e-01, -4.7695e-01, -1.6136e-01, -8.1425e-01,\n",
      "          -9.3295e-01, -1.7188e-01, -1.5605e-01]],\n",
      "\n",
      "        [[-7.4638e-01, -1.6250e+00, -9.0585e-01,  1.4066e+00,  2.1901e-01,\n",
      "           4.5005e-01, -2.0215e+00, -1.0158e+00],\n",
      "         [-2.2032e-01, -5.0617e-01,  2.4300e+00,  2.6013e-01,  1.5337e+00,\n",
      "           4.3804e-01, -5.1026e-01,  3.0526e-01],\n",
      "         [-7.3901e-01,  6.0443e-01, -7.4369e-02,  3.9546e-01,  2.0363e+00,\n",
      "           9.0536e-01,  3.1408e-01, -1.4544e+00]],\n",
      "\n",
      "        [[ 1.9478e+00, -4.9073e-01,  1.4940e+00,  9.3957e-01, -6.9595e-01,\n",
      "           1.0196e+00,  2.1303e-01, -1.1830e+00],\n",
      "         [-1.4072e-01,  1.2112e+00,  4.8439e-01,  3.0406e-01, -4.8478e-01,\n",
      "          -1.4315e+00,  6.1703e-01, -1.7071e+00],\n",
      "         [ 9.6197e-01,  5.1421e-01,  3.2191e-02,  1.2692e+00, -9.2577e-01,\n",
      "          -7.3692e-01, -2.3500e-03, -4.8306e-01]],\n",
      "\n",
      "        [[-1.7546e+00,  4.0991e-01,  1.1409e+00,  1.9820e+00, -2.3806e-01,\n",
      "           1.6706e-01,  2.1648e-01,  4.8451e-01],\n",
      "         [ 4.1144e-01,  3.4722e-01, -7.2181e-02,  3.0012e-01, -3.7814e-01,\n",
      "           5.9020e-01,  1.3314e+00,  5.5326e-01],\n",
      "         [-4.2197e-01,  1.2753e+00,  1.4885e+00,  1.2332e+00,  3.9059e-01,\n",
      "          -6.2906e-01,  1.1849e+00, -1.0737e+00]],\n",
      "\n",
      "        [[ 1.8303e+00,  1.1134e+00, -9.2784e-01, -1.2656e+00,  1.3513e+00,\n",
      "          -5.1285e-02, -1.0671e+00,  1.0851e+00],\n",
      "         [-1.7688e-01, -8.7199e-01, -3.6400e-01,  9.8383e-01, -4.5062e-01,\n",
      "          -6.3993e-01,  2.9384e+00,  2.2079e-01],\n",
      "         [ 8.5372e-01,  1.5868e+00,  9.2316e-01, -5.5297e-02,  2.0500e-01,\n",
      "           3.0113e-01, -4.7581e-02, -9.2636e-02]]])\n"
     ]
    }
   ],
   "source": [
    "batch_size = 3\n",
    "sentence_length = 5\n",
    "embedding_dim = 8 \n",
    "inputs = torch.randn(sentence_length, batch_size, embedding_dim)\n",
    "\n",
    "print(f\"input \\n ({inputs.size()}) = \\n {inputs}\")"
   ]
  },
  {
   "cell_type": "code",
   "execution_count": 14,
   "metadata": {},
   "outputs": [
    {
     "name": "stdout",
     "output_type": "stream",
     "text": [
      "Mean \n",
      " (torch.Size([5, 3, 1])): \n",
      " tensor([[[ 0.1080],\n",
      "         [ 0.0204],\n",
      "         [-0.4205]],\n",
      "\n",
      "        [[-0.5298],\n",
      "         [ 0.4663],\n",
      "         [ 0.2485]],\n",
      "\n",
      "        [[ 0.4055],\n",
      "         [-0.1434],\n",
      "         [ 0.0787]],\n",
      "\n",
      "        [[ 0.3010],\n",
      "         [ 0.3854],\n",
      "         [ 0.4310]],\n",
      "\n",
      "        [[ 0.2585],\n",
      "         [ 0.2049],\n",
      "         [ 0.4593]]])\n",
      "Standard Deviation \n",
      " (torch.Size([5, 3, 1])): \n",
      " tensor([[[1.1844],\n",
      "         [0.9065],\n",
      "         [0.2878]],\n",
      "\n",
      "        [[1.0677],\n",
      "         [0.9641],\n",
      "         [0.9849]],\n",
      "\n",
      "        [[1.0490],\n",
      "         [0.9506],\n",
      "         [0.7404]],\n",
      "\n",
      "        [[1.0073],\n",
      "         [0.4700],\n",
      "         [0.9460]],\n",
      "\n",
      "        [[1.1545],\n",
      "         [1.1647],\n",
      "         [0.5655]]])\n",
      "y \n",
      " (torch.Size([5, 3, 8])) = \n",
      " tensor([[[-1.1850,  1.6220, -0.6438,  0.8175, -0.6187,  0.6031, -1.2871,\n",
      "           0.6920],\n",
      "         [-0.2217,  0.3288, -1.1175,  1.0008, -0.3402, -1.7669,  1.2975,\n",
      "           0.8192],\n",
      "         [ 0.7172, -0.0559, -0.1961,  0.9005, -1.3680, -1.7805,  0.8639,\n",
      "           0.9189]],\n",
      "\n",
      "        [[-0.2028, -1.0257, -0.3522,  1.8137,  0.7014,  0.9178, -1.3971,\n",
      "          -0.4551],\n",
      "         [-0.7122, -1.0087,  2.0368, -0.2139,  1.1072, -0.0293, -1.0129,\n",
      "          -0.1670],\n",
      "         [-1.0027,  0.3614, -0.3278,  0.1492,  1.8153,  0.6670,  0.0666,\n",
      "          -1.7291]],\n",
      "\n",
      "        [[ 1.4702, -0.8544,  1.0376,  0.5091, -1.0501,  0.5854, -0.1835,\n",
      "          -1.5144],\n",
      "         [ 0.0028,  1.4251,  0.6605,  0.4708, -0.3591, -1.3551,  0.8000,\n",
      "          -1.6450],\n",
      "         [ 1.1929,  0.5882, -0.0628,  1.6079, -1.3566, -1.1015, -0.1095,\n",
      "          -0.7587]],\n",
      "\n",
      "        [[-2.0407,  0.1081,  0.8337,  1.6687, -0.5351, -0.1330, -0.0839,\n",
      "           0.1822],\n",
      "         [ 0.0554, -0.0813, -0.9737, -0.1815, -1.6247,  0.4358,  2.0129,\n",
      "           0.3572],\n",
      "         [-0.9016,  0.8925,  1.1178,  0.8480, -0.0427, -1.1205,  0.7969,\n",
      "          -1.5905]],\n",
      "\n",
      "        [[ 1.3615,  0.7405, -1.0276, -1.3202,  0.9466, -0.2684, -1.1482,\n",
      "           0.7160],\n",
      "         [-0.3278, -0.9247, -0.4885,  0.6688, -0.5629, -0.7254,  2.3470,\n",
      "           0.0136],\n",
      "         [ 0.6975,  1.9939,  0.8203, -0.9100, -0.4497, -0.2797, -0.8963,\n",
      "          -0.9760]]])\n",
      "out \n",
      " (torch.Size([5, 3, 8])) = \n",
      " tensor([[[-1.1850,  1.6220, -0.6438,  0.8175, -0.6187,  0.6031, -1.2871,\n",
      "           0.6920],\n",
      "         [-0.2217,  0.3288, -1.1175,  1.0008, -0.3402, -1.7669,  1.2975,\n",
      "           0.8192],\n",
      "         [ 0.7172, -0.0559, -0.1961,  0.9005, -1.3680, -1.7805,  0.8639,\n",
      "           0.9189]],\n",
      "\n",
      "        [[-0.2028, -1.0257, -0.3522,  1.8137,  0.7014,  0.9178, -1.3971,\n",
      "          -0.4551],\n",
      "         [-0.7122, -1.0087,  2.0368, -0.2139,  1.1072, -0.0293, -1.0129,\n",
      "          -0.1670],\n",
      "         [-1.0027,  0.3614, -0.3278,  0.1492,  1.8153,  0.6670,  0.0666,\n",
      "          -1.7291]],\n",
      "\n",
      "        [[ 1.4702, -0.8544,  1.0376,  0.5091, -1.0501,  0.5854, -0.1835,\n",
      "          -1.5144],\n",
      "         [ 0.0028,  1.4251,  0.6605,  0.4708, -0.3591, -1.3551,  0.8000,\n",
      "          -1.6450],\n",
      "         [ 1.1929,  0.5882, -0.0628,  1.6079, -1.3566, -1.1015, -0.1095,\n",
      "          -0.7587]],\n",
      "\n",
      "        [[-2.0407,  0.1081,  0.8337,  1.6687, -0.5351, -0.1330, -0.0839,\n",
      "           0.1822],\n",
      "         [ 0.0554, -0.0813, -0.9737, -0.1815, -1.6247,  0.4358,  2.0129,\n",
      "           0.3572],\n",
      "         [-0.9016,  0.8925,  1.1178,  0.8480, -0.0427, -1.1205,  0.7969,\n",
      "          -1.5905]],\n",
      "\n",
      "        [[ 1.3615,  0.7405, -1.0276, -1.3202,  0.9466, -0.2684, -1.1482,\n",
      "           0.7160],\n",
      "         [-0.3278, -0.9247, -0.4885,  0.6688, -0.5629, -0.7254,  2.3470,\n",
      "           0.0136],\n",
      "         [ 0.6975,  1.9939,  0.8203, -0.9100, -0.4497, -0.2797, -0.8963,\n",
      "          -0.9760]]], grad_fn=<AddBackward0>)\n"
     ]
    }
   ],
   "source": [
    "layer_norm = LayerNormalization(inputs.size()[-1:])\n",
    "out = layer_norm.forward(inputs)\n"
   ]
  },
  {
   "cell_type": "code",
   "execution_count": 15,
   "metadata": {},
   "outputs": [
    {
     "data": {
      "text/plain": [
       "(tensor(9.9341e-09, grad_fn=<MeanBackward0>),\n",
       " tensor(1.0215, grad_fn=<StdBackward0>))"
      ]
     },
     "execution_count": 15,
     "metadata": {},
     "output_type": "execute_result"
    }
   ],
   "source": [
    "out[0].mean(), out[0].std()"
   ]
  }
 ],
 "metadata": {
  "kernelspec": {
   "display_name": "Python 3",
   "language": "python",
   "name": "python3"
  },
  "language_info": {
   "codemirror_mode": {
    "name": "ipython",
    "version": 3
   },
   "file_extension": ".py",
   "mimetype": "text/x-python",
   "name": "python",
   "nbconvert_exporter": "python",
   "pygments_lexer": "ipython3",
   "version": "3.12.7"
  }
 },
 "nbformat": 4,
 "nbformat_minor": 2
}

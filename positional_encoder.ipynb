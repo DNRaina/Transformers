{
 "cells": [
  {
   "cell_type": "code",
   "execution_count": 2,
   "metadata": {},
   "outputs": [],
   "source": [
    "import torch\n",
    "import torch.nn as nn\n",
    "max_sequence_length = 10\n",
    "d_model = 6"
   ]
  },
  {
   "cell_type": "markdown",
   "metadata": {},
   "source": [
    "<math xmlns=\"http://www.w3.org/1998/Math/MathML\" display=\"block\">\n",
    "  <mi>P</mi>\n",
    "  <mi>E</mi>\n",
    "  <mo stretchy=\"false\">(</mo>\n",
    "  <mtext>position</mtext>\n",
    "  <mo>,</mo>\n",
    "  <mn>2</mn>\n",
    "  <mi>i</mi>\n",
    "  <mo stretchy=\"false\">)</mo>\n",
    "  <mo>=</mo>\n",
    "  <mi>sin</mi>\n",
    "  <mo data-mjx-texclass=\"NONE\">&#x2061;</mo>\n",
    "  <mrow data-mjx-texclass=\"ORD\">\n",
    "    <mo minsize=\"2.047em\" maxsize=\"2.047em\">(</mo>\n",
    "  </mrow>\n",
    "  <mfrac>\n",
    "    <mtext>position</mtext>\n",
    "    <msup>\n",
    "      <mn>10000</mn>\n",
    "      <mfrac>\n",
    "        <mrow>\n",
    "          <mn>2</mn>\n",
    "          <mi>i</mi>\n",
    "        </mrow>\n",
    "        <msub>\n",
    "          <mi>d</mi>\n",
    "          <mrow data-mjx-texclass=\"ORD\">\n",
    "            <mi>m</mi>\n",
    "            <mi>o</mi>\n",
    "            <mi>d</mi>\n",
    "            <mi>e</mi>\n",
    "            <mi>l</mi>\n",
    "          </mrow>\n",
    "        </msub>\n",
    "      </mfrac>\n",
    "    </msup>\n",
    "  </mfrac>\n",
    "  <mrow data-mjx-texclass=\"ORD\">\n",
    "    <mo minsize=\"2.047em\" maxsize=\"2.047em\">)</mo>\n",
    "  </mrow>\n",
    "</math>"
   ]
  },
  {
   "cell_type": "markdown",
   "metadata": {},
   "source": [
    "<math xmlns=\"http://www.w3.org/1998/Math/MathML\" display=\"block\">\n",
    "  <mi>P</mi>\n",
    "  <mi>E</mi>\n",
    "  <mo stretchy=\"false\">(</mo>\n",
    "  <mtext>position</mtext>\n",
    "  <mo>,</mo>\n",
    "  <mn>2</mn>\n",
    "  <mi>i</mi>\n",
    "  <mo>+</mo>\n",
    "  <mn>1</mn>\n",
    "  <mo stretchy=\"false\">)</mo>\n",
    "  <mo>=</mo>\n",
    "  <mi>cos</mi>\n",
    "  <mo data-mjx-texclass=\"NONE\">&#x2061;</mo>\n",
    "  <mrow data-mjx-texclass=\"ORD\">\n",
    "    <mo minsize=\"2.047em\" maxsize=\"2.047em\">(</mo>\n",
    "  </mrow>\n",
    "  <mfrac>\n",
    "    <mtext>position</mtext>\n",
    "    <msup>\n",
    "      <mn>10000</mn>\n",
    "      <mfrac>\n",
    "        <mrow>\n",
    "          <mn>2</mn>\n",
    "          <mi>i</mi>\n",
    "        </mrow>\n",
    "        <msub>\n",
    "          <mi>d</mi>\n",
    "          <mrow data-mjx-texclass=\"ORD\">\n",
    "            <mi>m</mi>\n",
    "            <mi>o</mi>\n",
    "            <mi>d</mi>\n",
    "            <mi>e</mi>\n",
    "            <mi>l</mi>\n",
    "          </mrow>\n",
    "        </msub>\n",
    "      </mfrac>\n",
    "    </msup>\n",
    "  </mfrac>\n",
    "  <mrow data-mjx-texclass=\"ORD\">\n",
    "    <mo minsize=\"2.047em\" maxsize=\"2.047em\">)</mo>\n",
    "  </mrow>\n",
    "</math>"
   ]
  },
  {
   "cell_type": "markdown",
   "metadata": {},
   "source": [
    "We can re-write them as"
   ]
  },
  {
   "cell_type": "markdown",
   "metadata": {},
   "source": [
    "<math xmlns=\"http://www.w3.org/1998/Math/MathML\" display=\"block\">\n",
    "  <mi>P</mi>\n",
    "  <mi>E</mi>\n",
    "  <mo stretchy=\"false\">(</mo>\n",
    "  <mtext>position</mtext>\n",
    "  <mo>,</mo>\n",
    "  <mn>2</mn>\n",
    "  <mi>i</mi>\n",
    "  <mo>+</mo>\n",
    "  <mn>1</mn>\n",
    "  <mo stretchy=\"false\">)</mo>\n",
    "  <mo>=</mo>\n",
    "  <mi>cos</mi>\n",
    "  <mo data-mjx-texclass=\"NONE\">&#x2061;</mo>\n",
    "  <mrow data-mjx-texclass=\"ORD\">\n",
    "    <mo minsize=\"2.047em\" maxsize=\"2.047em\">(</mo>\n",
    "  </mrow>\n",
    "  <mfrac>\n",
    "    <mtext>position</mtext>\n",
    "    <msup>\n",
    "      <mn>10000</mn>\n",
    "      <mfrac>\n",
    "        <mrow>\n",
    "          <mn>2</mn>\n",
    "          <mi>i</mi>\n",
    "        </mrow>\n",
    "        <msub>\n",
    "          <mi>d</mi>\n",
    "          <mrow data-mjx-texclass=\"ORD\">\n",
    "            <mi>m</mi>\n",
    "            <mi>o</mi>\n",
    "            <mi>d</mi>\n",
    "            <mi>e</mi>\n",
    "            <mi>l</mi>\n",
    "          </mrow>\n",
    "        </msub>\n",
    "      </mfrac>\n",
    "    </msup>\n",
    "  </mfrac>\n",
    "  <mrow data-mjx-texclass=\"ORD\">\n",
    "    <mo minsize=\"2.047em\" maxsize=\"2.047em\">)</mo>\n",
    "  </mrow>\n",
    "</math>\n",
    "\n",
    "when i is even"
   ]
  },
  {
   "cell_type": "markdown",
   "metadata": {},
   "source": [
    "<math xmlns=\"http://www.w3.org/1998/Math/MathML\" display=\"block\">\n",
    "  <mi>P</mi>\n",
    "  <mi>E</mi>\n",
    "  <mo stretchy=\"false\">(</mo>\n",
    "  <mtext>position</mtext>\n",
    "  <mo>,</mo>\n",
    "  <mn>2</mn>\n",
    "  <mi>i</mi>\n",
    "  <mo>+</mo>\n",
    "  <mn>1</mn>\n",
    "  <mo stretchy=\"false\">)</mo>\n",
    "  <mo>=</mo>\n",
    "  <mi>cos</mi>\n",
    "  <mo data-mjx-texclass=\"NONE\">&#x2061;</mo>\n",
    "  <mrow data-mjx-texclass=\"ORD\">\n",
    "    <mo minsize=\"2.047em\" maxsize=\"2.047em\">(</mo>\n",
    "  </mrow>\n",
    "  <mfrac>\n",
    "    <mtext>position</mtext>\n",
    "    <msup>\n",
    "      <mn>10000</mn>\n",
    "      <mfrac>\n",
    "        <mrow>\n",
    "          <mn>2</mn>\n",
    "          <mi>i</mi>\n",
    "        </mrow>\n",
    "        <msub>\n",
    "          <mi>d</mi>\n",
    "          <mrow data-mjx-texclass=\"ORD\">\n",
    "            <mi>m</mi>\n",
    "            <mi>o</mi>\n",
    "            <mi>d</mi>\n",
    "            <mi>e</mi>\n",
    "            <mi>l</mi>\n",
    "          </mrow>\n",
    "        </msub>\n",
    "      </mfrac>\n",
    "    </msup>\n",
    "  </mfrac>\n",
    "  <mrow data-mjx-texclass=\"ORD\">\n",
    "    <mo minsize=\"2.047em\" maxsize=\"2.047em\">)</mo>\n",
    "  </mrow>\n",
    "</math>\n",
    "when i is odd"
   ]
  },
  {
   "cell_type": "code",
   "execution_count": 3,
   "metadata": {},
   "outputs": [
    {
     "name": "stdout",
     "output_type": "stream",
     "text": [
      "tensor([0., 2., 4.])\n",
      "tensor([  1.0000,  21.5443, 464.1590])\n",
      "tensor([1., 3., 5.])\n",
      "tensor([  1.0000,  21.5443, 464.1590])\n",
      "tensor([True, True, True])\n",
      "tensor([[0.],\n",
      "        [1.],\n",
      "        [2.],\n",
      "        [3.],\n",
      "        [4.],\n",
      "        [5.],\n",
      "        [6.],\n",
      "        [7.],\n",
      "        [8.],\n",
      "        [9.]])\n"
     ]
    }
   ],
   "source": [
    "even_i = torch.arange(0, d_model, 2).float()\n",
    "print(even_i)\n",
    "\n",
    "even_denominator = torch.pow(10000, even_i / d_model)\n",
    "print(even_denominator)\n",
    "\n",
    "odd_i = torch.arange(1, d_model, 2).float()\n",
    "print(odd_i)\n",
    "\n",
    "odd_dominator = torch.pow(10000, (odd_i - 1) / d_model)\n",
    "print(odd_dominator)\n",
    "\n",
    "print(even_denominator == odd_dominator)\n",
    "\n",
    "denominator = even_denominator\n",
    "position = torch.arange(max_sequence_length, dtype = torch.float).reshape(max_sequence_length, 1)\n",
    "print(position)\n",
    "\n",
    "even_PE = torch.sin(position / denominator)\n",
    "odd_PE = torch.cos(position / denominator) "
   ]
  },
  {
   "cell_type": "code",
   "execution_count": 4,
   "metadata": {},
   "outputs": [
    {
     "data": {
      "text/plain": [
       "(tensor([[ 0.0000,  0.0000,  0.0000],\n",
       "         [ 0.8415,  0.0464,  0.0022],\n",
       "         [ 0.9093,  0.0927,  0.0043],\n",
       "         [ 0.1411,  0.1388,  0.0065],\n",
       "         [-0.7568,  0.1846,  0.0086],\n",
       "         [-0.9589,  0.2300,  0.0108],\n",
       "         [-0.2794,  0.2749,  0.0129],\n",
       "         [ 0.6570,  0.3192,  0.0151],\n",
       "         [ 0.9894,  0.3629,  0.0172],\n",
       "         [ 0.4121,  0.4057,  0.0194]]),\n",
       " torch.Size([10, 3]),\n",
       " tensor([[ 1.0000,  1.0000,  1.0000],\n",
       "         [ 0.5403,  0.9989,  1.0000],\n",
       "         [-0.4161,  0.9957,  1.0000],\n",
       "         [-0.9900,  0.9903,  1.0000],\n",
       "         [-0.6536,  0.9828,  1.0000],\n",
       "         [ 0.2837,  0.9732,  0.9999],\n",
       "         [ 0.9602,  0.9615,  0.9999],\n",
       "         [ 0.7539,  0.9477,  0.9999],\n",
       "         [-0.1455,  0.9318,  0.9999],\n",
       "         [-0.9111,  0.9140,  0.9998]]),\n",
       " torch.Size([10, 3]))"
      ]
     },
     "execution_count": 4,
     "metadata": {},
     "output_type": "execute_result"
    }
   ],
   "source": [
    "even_PE, even_PE.shape, odd_PE, odd_PE.shape"
   ]
  },
  {
   "cell_type": "code",
   "execution_count": 6,
   "metadata": {},
   "outputs": [
    {
     "name": "stdout",
     "output_type": "stream",
     "text": [
      "torch.Size([10, 3, 2])\n"
     ]
    },
    {
     "data": {
      "text/plain": [
       "(tensor([[ 0.0000,  1.0000,  0.0000,  1.0000,  0.0000,  1.0000],\n",
       "         [ 0.8415,  0.5403,  0.0464,  0.9989,  0.0022,  1.0000],\n",
       "         [ 0.9093, -0.4161,  0.0927,  0.9957,  0.0043,  1.0000],\n",
       "         [ 0.1411, -0.9900,  0.1388,  0.9903,  0.0065,  1.0000],\n",
       "         [-0.7568, -0.6536,  0.1846,  0.9828,  0.0086,  1.0000],\n",
       "         [-0.9589,  0.2837,  0.2300,  0.9732,  0.0108,  0.9999],\n",
       "         [-0.2794,  0.9602,  0.2749,  0.9615,  0.0129,  0.9999],\n",
       "         [ 0.6570,  0.7539,  0.3192,  0.9477,  0.0151,  0.9999],\n",
       "         [ 0.9894, -0.1455,  0.3629,  0.9318,  0.0172,  0.9999],\n",
       "         [ 0.4121, -0.9111,  0.4057,  0.9140,  0.0194,  0.9998]]),\n",
       " torch.Size([10, 6]))"
      ]
     },
     "execution_count": 6,
     "metadata": {},
     "output_type": "execute_result"
    }
   ],
   "source": [
    "stacked = torch.stack([even_PE, odd_PE], dim=2)\n",
    "print(stacked.shape)\n",
    "PE = torch.flatten(stacked, start_dim=1, end_dim=2)\n",
    "PE, PE.shape"
   ]
  },
  {
   "cell_type": "code",
   "execution_count": 7,
   "metadata": {},
   "outputs": [
    {
     "data": {
      "text/plain": [
       "tensor([[ 0.0000,  1.0000,  0.0000,  1.0000,  0.0000,  1.0000],\n",
       "        [ 0.8415,  0.5403,  0.0464,  0.9989,  0.0022,  1.0000],\n",
       "        [ 0.9093, -0.4161,  0.0927,  0.9957,  0.0043,  1.0000],\n",
       "        [ 0.1411, -0.9900,  0.1388,  0.9903,  0.0065,  1.0000],\n",
       "        [-0.7568, -0.6536,  0.1846,  0.9828,  0.0086,  1.0000],\n",
       "        [-0.9589,  0.2837,  0.2300,  0.9732,  0.0108,  0.9999],\n",
       "        [-0.2794,  0.9602,  0.2749,  0.9615,  0.0129,  0.9999],\n",
       "        [ 0.6570,  0.7539,  0.3192,  0.9477,  0.0151,  0.9999],\n",
       "        [ 0.9894, -0.1455,  0.3629,  0.9318,  0.0172,  0.9999],\n",
       "        [ 0.4121, -0.9111,  0.4057,  0.9140,  0.0194,  0.9998]])"
      ]
     },
     "execution_count": 7,
     "metadata": {},
     "output_type": "execute_result"
    }
   ],
   "source": [
    "\n",
    "\n",
    "import torch\n",
    "import torch.nn as nn\n",
    "\n",
    "class PositionalEncoding(nn.Module):\n",
    "\n",
    "    def __init__(self, d_model, max_sequence_length):\n",
    "        super().__init__()\n",
    "        self.max_sequence_length = max_sequence_length\n",
    "        self.d_model = d_model\n",
    "\n",
    "    def forward(self):\n",
    "        even_i = torch.arange(0, self.d_model, 2).float()\n",
    "        denominator = torch.pow(10000, even_i/self.d_model)\n",
    "        position = torch.arange(self.max_sequence_length).reshape(self.max_sequence_length, 1)\n",
    "        even_PE = torch.sin(position / denominator)\n",
    "        odd_PE = torch.cos(position / denominator)\n",
    "        stacked = torch.stack([even_PE, odd_PE], dim=2)\n",
    "        PE = torch.flatten(stacked, start_dim=1, end_dim=2)\n",
    "        return PE\n",
    "     \n",
    "\n",
    "pe = PositionalEncoding(d_model=6, max_sequence_length=10)\n",
    "pe.forward()\n",
    "     \n"
   ]
  },
  {
   "cell_type": "code",
   "execution_count": null,
   "metadata": {},
   "outputs": [],
   "source": []
  }
 ],
 "metadata": {
  "kernelspec": {
   "display_name": "Python 3",
   "language": "python",
   "name": "python3"
  },
  "language_info": {
   "codemirror_mode": {
    "name": "ipython",
    "version": 3
   },
   "file_extension": ".py",
   "mimetype": "text/x-python",
   "name": "python",
   "nbconvert_exporter": "python",
   "pygments_lexer": "ipython3",
   "version": "3.12.7"
  }
 },
 "nbformat": 4,
 "nbformat_minor": 2
}
